{
  "cells": [
    {
      "cell_type": "markdown",
      "metadata": {
        "id": "view-in-github",
        "colab_type": "text"
      },
      "source": [
        "<a href=\"https://colab.research.google.com/github/JuliaBalakina/Python_ALATA_2023/blob/main/%D0%9A%D0%BE%D0%BF%D0%B8%D1%8F_%D0%B1%D0%BB%D0%BE%D0%BA%D0%BD%D0%BE%D1%82%D0%B0_%222023_ALaTA_4_lists_ipynb%22.ipynb\" target=\"_parent\"><img src=\"https://colab.research.google.com/assets/colab-badge.svg\" alt=\"Open In Colab\"/></a>"
      ]
    },
    {
      "cell_type": "markdown",
      "metadata": {
        "id": "YSe6yoqs4pP-"
      },
      "source": [
        "### Lists\n",
        "\n",
        "Like a string, a list is a sequence of values.\n",
        "\n",
        "In a string, the values are characters; in a list, they can be **any type**.\n",
        "\n",
        "The values in a list are called **elements** or sometimes\n",
        "**items**.\n",
        "\n",
        "There are several ways to create a new list; the simplest is to enclose the elements\n",
        "in square brackets (“[\" and “]”):\n",
        "\n",
        "> [1, 2, 3, 4]\n",
        "\n",
        "> ['frog', 'rabbit', 'dog']\n",
        "\n",
        "The first example is a list of four integers. The second is a list of three strings.\n",
        "\n",
        "\n",
        "The elements of a list **don’t have to be the same type**.\n",
        "\n",
        "The following list contains\n",
        "a string, a float, an integer, and (!) another list:\n",
        "\n",
        ">['spam', 2.0, 5, [10, 20]]\n",
        "\n",
        "A list within another list is nested.\n",
        "\n",
        "A list that contains no elements is called an **empty list**; you can create one with\n",
        "empty brackets, []."
      ]
    },
    {
      "cell_type": "code",
      "execution_count": null,
      "metadata": {
        "id": "q9pEsZUN4pQB"
      },
      "outputs": [],
      "source": [
        "x =''\n",
        "e =[]"
      ]
    },
    {
      "cell_type": "code",
      "execution_count": null,
      "metadata": {
        "id": "meJD2jmI4pQD",
        "outputId": "3cf073f9-ea86-4e83-ff24-8513e4242835"
      },
      "outputs": [
        {
          "name": "stdout",
          "output_type": "stream",
          "text": [
            "frog\n",
            "3\n"
          ]
        }
      ],
      "source": [
        "animals = ['frog', 'rabbit', 'dog']\n",
        "print(animals [0])\n",
        "print(len(animals))"
      ]
    },
    {
      "cell_type": "markdown",
      "metadata": {
        "id": "zzqe4i-e4pQD"
      },
      "source": [
        "### Lists are mutable\n",
        "\n",
        "Unlike strings, lists are mutable because you can change the order of items in a\n",
        "list or reassign an item in a list. When the bracket operator appears on the left\n",
        "side of an assignment, it identifies the element of the list that will be assigned.\n",
        "\n"
      ]
    },
    {
      "cell_type": "code",
      "execution_count": null,
      "metadata": {
        "id": "DHmWnLxx4pQE",
        "outputId": "2abb14d3-67ec-4500-8f94-fceb0dec75ec"
      },
      "outputs": [
        {
          "name": "stdout",
          "output_type": "stream",
          "text": [
            "['frog', 'cat', 'dog']\n"
          ]
        }
      ],
      "source": [
        "animals = ['frog', 'rabbit', 'dog'] ### a list of strings\n",
        "animals[1]= 'cat'  ## update the value of the element with index [1]\n",
        "print(animals)\n"
      ]
    },
    {
      "cell_type": "code",
      "execution_count": null,
      "metadata": {
        "id": "TpbWWjZw4pQF",
        "outputId": "d8b1fce4-e30f-4b3d-d738-fa1470684689"
      },
      "outputs": [
        {
          "name": "stdout",
          "output_type": "stream",
          "text": [
            "frog\n",
            "cat\n",
            "dog\n"
          ]
        }
      ],
      "source": [
        "for i in animals: ### for loop\n",
        "    print(i)"
      ]
    },
    {
      "cell_type": "code",
      "execution_count": null,
      "metadata": {
        "id": "wiFcf2qI4pQF",
        "outputId": "57094831-5910-4c30-a0b6-90a6e3696286"
      },
      "outputs": [
        {
          "name": "stdout",
          "output_type": "stream",
          "text": [
            "Frog\n",
            "Rabbit\n",
            "Dog\n"
          ]
        }
      ],
      "source": [
        "animals = ['frog', 'rabbit', 'dog'] ## we use string methods for the elements of our list\n",
        "for i in animals:\n",
        "    i = i.capitalize()\n",
        "    print(i)"
      ]
    },
    {
      "cell_type": "markdown",
      "metadata": {
        "id": "OuCBfMWB4pQG"
      },
      "source": [
        "### Slices\n",
        "\n",
        "If you omit the first index, the slice starts at the beginning [:2].\n",
        "\n",
        "If you omit the second,\n",
        "the slice goes to the end [1:].\n",
        "\n",
        "So if you omit both, the slice is a copy of the whole list [:]."
      ]
    },
    {
      "cell_type": "code",
      "execution_count": null,
      "metadata": {
        "id": "6e6lL8-d4pQG",
        "outputId": "b23c3bc5-f93e-48d1-8ebd-663fd73bcf40"
      },
      "outputs": [
        {
          "name": "stdout",
          "output_type": "stream",
          "text": [
            "cat\n",
            "dog\n"
          ]
        }
      ],
      "source": [
        "for i in animals [1:]: ## slices\n",
        "    print(i)"
      ]
    },
    {
      "cell_type": "code",
      "execution_count": null,
      "metadata": {
        "id": "GJebUJ3t4pQG",
        "outputId": "70914929-a134-42e2-a87a-4333c8dd5652"
      },
      "outputs": [
        {
          "name": "stdout",
          "output_type": "stream",
          "text": [
            "['dog', 'rabbit', 'frog']\n"
          ]
        }
      ],
      "source": [
        "animals = animals[::-1]\n",
        "print(animals)"
      ]
    },
    {
      "cell_type": "code",
      "execution_count": 4,
      "metadata": {
        "id": "G_TeS-Iw4pQH",
        "outputId": "e4da4081-d29e-4b7f-d25e-ea46b17df57b",
        "colab": {
          "base_uri": "https://localhost:8080/"
        }
      },
      "outputs": [
        {
          "output_type": "stream",
          "name": "stdout",
          "text": [
            "['frog', 'rabbit', 'dog']\n",
            "frog\n",
            "a\n"
          ]
        }
      ],
      "source": [
        "animals = ['frog', 'rabbit', 'dog']\n",
        "print(animals)\n",
        "print(animals[0])\n",
        "print(animals[1][1])"
      ]
    },
    {
      "cell_type": "code",
      "execution_count": null,
      "metadata": {
        "id": "DuIpnucr4pQH",
        "outputId": "ecad9062-8af0-418b-8103-5be8f1dee337"
      },
      "outputs": [
        {
          "name": "stdout",
          "output_type": "stream",
          "text": [
            "['dog', 'rabbit', 'frog']\n",
            "D\n",
            "O\n",
            "G\n",
            "R\n",
            "A\n",
            "B\n",
            "B\n",
            "I\n",
            "T\n",
            "F\n",
            "R\n",
            "O\n",
            "G\n"
          ]
        }
      ],
      "source": [
        "print(animals)\n",
        "for word in animals:\n",
        "    for letter in word:\n",
        "        letter = letter.upper()\n",
        "        print(letter)\n"
      ]
    },
    {
      "cell_type": "code",
      "execution_count": null,
      "metadata": {
        "id": "CLa13wN34pQH",
        "outputId": "a68427e1-dd1f-420e-a1ae-d6b940ab5223"
      },
      "outputs": [
        {
          "name": "stdout",
          "output_type": "stream",
          "text": [
            "['D', 'O', 'G']\n",
            "['R', 'A', 'B', 'B', 'I', 'T']\n",
            "['F', 'R', 'O', 'G']\n"
          ]
        }
      ],
      "source": [
        "for word in animals:\n",
        "    word = [letter.upper()for letter in word]\n",
        "    print(word)"
      ]
    },
    {
      "cell_type": "code",
      "execution_count": 7,
      "metadata": {
        "id": "bpr3LNes4pQH",
        "outputId": "12298c88-97b9-4e7f-e57e-72bfd1c08a34",
        "colab": {
          "base_uri": "https://localhost:8080/"
        }
      },
      "outputs": [
        {
          "output_type": "stream",
          "name": "stdout",
          "text": [
            "FROG\n",
            "RABBIT\n",
            "DOG\n"
          ]
        }
      ],
      "source": [
        "animals = ['frog', 'rabbit', 'dog']\n",
        "for word in animals:\n",
        "    word = [letter.upper()for letter in word]\n",
        "    print(''.join(word))"
      ]
    },
    {
      "cell_type": "code",
      "execution_count": null,
      "metadata": {
        "id": "zgLDIi_q4pQI",
        "outputId": "0318edf0-cfca-4864-abe4-b884f2baacf0"
      },
      "outputs": [
        {
          "name": "stdout",
          "output_type": "stream",
          "text": [
            "FROG\n",
            "RABBIT\n",
            "DOG\n"
          ]
        }
      ],
      "source": [
        "animals = ['frog', 'rabbit', 'dog']\n",
        "for word in animals:\n",
        "    word = (''.join([letter.upper()for letter in word]))\n",
        "    print(word)"
      ]
    },
    {
      "cell_type": "code",
      "execution_count": null,
      "metadata": {
        "id": "nWPxim2M4pQI",
        "outputId": "049dc90e-fe4f-41be-8f25-adcbec774571"
      },
      "outputs": [
        {
          "name": "stdout",
          "output_type": "stream",
          "text": [
            "FROG\n",
            "RABBIT\n",
            "DOG\n"
          ]
        }
      ],
      "source": [
        "animals = ['frog', 'rabbit', 'dog']\n",
        "for word in animals:\n",
        "    print(''.join([letter.upper()for letter in word]))\n"
      ]
    },
    {
      "cell_type": "markdown",
      "metadata": {
        "id": "X2EvkUmh4pQI"
      },
      "source": [
        "### Len, range, enumerate\n",
        "\n",
        "**'len'** returns the number of elements in the list.\n",
        "\n",
        "**range** returns a list of indices from 0 to (n − 1), where n is the length of the list."
      ]
    },
    {
      "cell_type": "code",
      "execution_count": null,
      "metadata": {
        "id": "UGH0qUSo4pQI",
        "outputId": "35fe557f-2672-42d6-b909-a7a0c2770916"
      },
      "outputs": [
        {
          "name": "stdout",
          "output_type": "stream",
          "text": [
            "0\n",
            "1\n",
            "2\n"
          ]
        }
      ],
      "source": [
        "animals = ['frog', 'rabbit', 'dog']\n",
        "for i in range(len(animals)):  ### len(animals)=3; range of indices: from 0 to (3-1)\n",
        "    print(i)"
      ]
    },
    {
      "cell_type": "code",
      "execution_count": null,
      "metadata": {
        "colab": {
          "base_uri": "https://localhost:8080/"
        },
        "id": "L5SFlBOp4pQI",
        "outputId": "cb99868b-6273-4937-b21a-197cf501fb5c"
      },
      "outputs": [
        {
          "output_type": "stream",
          "name": "stdout",
          "text": [
            "3\n",
            "0\n",
            "1\n",
            "2\n"
          ]
        }
      ],
      "source": [
        "animals = ['frog', 'rabbit', 'dog']\n",
        "print(len(animals))\n",
        "for i in range(len(animals)):\n",
        "    print(i)"
      ]
    },
    {
      "cell_type": "code",
      "execution_count": 10,
      "metadata": {
        "colab": {
          "base_uri": "https://localhost:8080/"
        },
        "id": "hDaHVstV4pQJ",
        "outputId": "23b6bdd8-b20e-4841-9132-2890b4b00490"
      },
      "outputs": [
        {
          "output_type": "stream",
          "name": "stdout",
          "text": [
            "2\n",
            "3\n",
            "4\n",
            "5\n",
            "6\n",
            "7\n"
          ]
        }
      ],
      "source": [
        "animals = ['frog', 'rabbit', 'dog']\n",
        "for i in range(2,len(animals)+5): ## 2 is a starting point;len(animals)+1 - finish\n",
        "    print(i)"
      ]
    },
    {
      "cell_type": "code",
      "source": [],
      "metadata": {
        "id": "GwXvy6IHP0YL"
      },
      "execution_count": null,
      "outputs": []
    },
    {
      "cell_type": "code",
      "source": [
        "letters = ['a','k','p','d','p','h','l','t','e']\n",
        "for i in range(0,(len(letters)-2),3): ## 2 is a starting point;len(letters)+1 - finish,2 - a step\n",
        "  print(letters[i])"
      ],
      "metadata": {
        "colab": {
          "base_uri": "https://localhost:8080/"
        },
        "id": "WIgBYejF7Y_t",
        "outputId": "89a5335a-d5d2-4510-be35-5bb66bd4cc3a"
      },
      "execution_count": 13,
      "outputs": [
        {
          "output_type": "stream",
          "name": "stdout",
          "text": [
            "a\n",
            "d\n",
            "l\n"
          ]
        }
      ]
    },
    {
      "cell_type": "markdown",
      "metadata": {
        "id": "2xKu1_vw4pQJ"
      },
      "source": [
        "An in-built function **enumerate** gives you back two loop variables:\n",
        "\n",
        "    The count of the current iteration\n",
        "    The value of the item at the current iteration\n"
      ]
    },
    {
      "cell_type": "code",
      "execution_count": null,
      "metadata": {
        "id": "Op8pYuCA4pQJ",
        "outputId": "6b994686-2804-4222-e708-9efae7f97be5"
      },
      "outputs": [
        {
          "name": "stdout",
          "output_type": "stream",
          "text": [
            "0\n",
            "frog\n",
            "1\n",
            "rabbit\n",
            "2\n",
            "dog\n"
          ]
        }
      ],
      "source": [
        "animals = ['frog', 'rabbit', 'dog']\n",
        "for index,animal in enumerate(animals):\n",
        "    print(index)\n",
        "    print(animal)"
      ]
    },
    {
      "cell_type": "markdown",
      "metadata": {
        "id": "d5k6Luaf4pQJ"
      },
      "source": [
        "Also it accepts an optional argument that allows us to specify the starting index of the counter."
      ]
    },
    {
      "cell_type": "code",
      "execution_count": null,
      "metadata": {
        "id": "-1jaVmNN4pQJ",
        "outputId": "1eca4f3f-088e-4995-a4e0-5c53ed7e273a"
      },
      "outputs": [
        {
          "name": "stdout",
          "output_type": "stream",
          "text": [
            "26\n",
            "frog\n",
            "27\n",
            "rabbit\n",
            "28\n",
            "dog\n"
          ]
        }
      ],
      "source": [
        "animals = ['frog', 'rabbit', 'dog']\n",
        "for index,animal in enumerate(animals,26):\n",
        "    print(index)\n",
        "    print(animal)"
      ]
    },
    {
      "cell_type": "markdown",
      "metadata": {
        "id": "hwVQEJ6r4pQK"
      },
      "source": [
        "In this example, we pass start=26, which starts count with the value 26\n",
        "on the first loop iteration. Compare this with the previous examples, in which start had the default value of 0"
      ]
    },
    {
      "cell_type": "markdown",
      "metadata": {
        "id": "KWi3iFLO4pQK"
      },
      "source": [
        "### Nested lists\n",
        "\n",
        "A list can contain any sort object, even another list (sublist), which in turn can contain sublists themselves, and so on. This is known as nested list.\n",
        "\n",
        "You can use them to arrange data into hierarchical structures."
      ]
    },
    {
      "cell_type": "code",
      "execution_count": null,
      "metadata": {
        "id": "XyOW76pE4pQK",
        "outputId": "738d1903-045f-42f8-e63a-848d013dd875"
      },
      "outputs": [
        {
          "name": "stdout",
          "output_type": "stream",
          "text": [
            "[['oranges', 'lemons'], ['potatoes', 'onions'], ['bread', 'butter']]\n",
            "o\n",
            "r\n",
            "a\n",
            "n\n",
            "g\n",
            "e\n",
            "s\n",
            "l\n",
            "e\n",
            "m\n",
            "o\n",
            "n\n",
            "s\n",
            "p\n",
            "o\n",
            "t\n",
            "a\n",
            "t\n",
            "o\n",
            "e\n",
            "s\n",
            "o\n",
            "n\n",
            "i\n",
            "o\n",
            "n\n",
            "s\n",
            "b\n",
            "r\n",
            "e\n",
            "a\n",
            "d\n",
            "b\n",
            "u\n",
            "t\n",
            "t\n",
            "e\n",
            "r\n",
            "o\n"
          ]
        }
      ],
      "source": [
        "grocery = [['oranges','lemons'],['potatoes','onions'],['bread','butter']]\n",
        "print(grocery)\n",
        "for i in grocery:\n",
        "    for word in i:\n",
        "        for letter in word:\n",
        "            print(letter)\n",
        "print(grocery[0][0][0])"
      ]
    },
    {
      "cell_type": "code",
      "execution_count": 14,
      "metadata": {
        "id": "C8Qw9LgI4pQK",
        "outputId": "2bb8ef41-16ca-41b8-d8e7-4b74abb79956",
        "colab": {
          "base_uri": "https://localhost:8080/"
        }
      },
      "outputs": [
        {
          "output_type": "stream",
          "name": "stdout",
          "text": [
            "['oranges', 'lemons']\n",
            "['potatoes', 'onions']\n",
            "['bread', 'butter']\n",
            "p\n",
            "o\n",
            "t\n",
            "a\n",
            "t\n",
            "o\n",
            "e\n",
            "s\n"
          ]
        }
      ],
      "source": [
        "grocery = [['oranges','lemons'],['potatoes','onions'],['bread','butter']]\n",
        "print(grocery[0])\n",
        "print(grocery[1])\n",
        "print(grocery[2])\n",
        "for i in grocery[1][0]:\n",
        "    print(i)\n"
      ]
    },
    {
      "cell_type": "code",
      "execution_count": null,
      "metadata": {
        "id": "20-fuS0H4pQK",
        "outputId": "17d09419-1120-4fe3-9d3a-036aa842b4c0"
      },
      "outputs": [
        {
          "name": "stdout",
          "output_type": "stream",
          "text": [
            "oranges\n",
            "o\n",
            "r\n",
            "a\n",
            "n\n",
            "g\n",
            "e\n",
            "s\n",
            "o\n"
          ]
        }
      ],
      "source": [
        "print(grocery [0][0])\n",
        "for i in grocery [0][0]:\n",
        "    print(i)\n",
        "print(grocery[0][0][0])"
      ]
    },
    {
      "cell_type": "markdown",
      "metadata": {
        "id": "csJw6Lmy4pQK"
      },
      "source": [
        "### Task 1\n",
        "\n",
        "Given is a list : new = ['-1', 'orange', '!:']\n",
        "\n",
        "search for letters in this list and if you find one print: 'x is a letter!'\n",
        "\n",
        "the output:\n",
        "\n",
        "o is a letter!\n",
        "\n",
        "r is a letter!\n",
        "\n",
        "a is a letter!\n",
        "\n",
        "n is a letter!\n",
        "\n",
        "g is a letter!\n",
        "\n",
        "e is a letter!\n"
      ]
    },
    {
      "cell_type": "code",
      "execution_count": 16,
      "metadata": {
        "id": "pZwPleS-4pQK",
        "outputId": "b4e7423f-49de-47c9-a2e5-fb90eebb6c28",
        "colab": {
          "base_uri": "https://localhost:8080/"
        }
      },
      "outputs": [
        {
          "output_type": "stream",
          "name": "stdout",
          "text": [
            "o is a letter!\n",
            "r is a letter!\n",
            "a is a letter!\n",
            "n is a letter!\n",
            "g is a letter!\n",
            "e is a letter!\n"
          ]
        }
      ],
      "source": [
        "new = ['-1', 'orange', '!:']\n",
        "for i in new:\n",
        "  for l in i:\n",
        "    if l.isalpha():\n",
        "      print(l,'is a letter!')\n"
      ]
    },
    {
      "cell_type": "markdown",
      "metadata": {
        "id": "f46LTfZy4pQK"
      },
      "source": [
        "### List operations\n",
        "\n",
        "The + operator concatenates lists\n",
        "\n",
        "The * operator repeats a list a given number of times"
      ]
    },
    {
      "cell_type": "code",
      "execution_count": null,
      "metadata": {
        "id": "Of1mXHXa4pQL",
        "outputId": "38727142-4803-4dfe-dcb9-1497a95d7bd2"
      },
      "outputs": [
        {
          "name": "stdout",
          "output_type": "stream",
          "text": [
            "['frog', 'cat', 'dog', ['oranges', 'lemons'], ['potatoes', 'onions'], ['bread', 'butter']]\n",
            "['frog', 'cat', 'dog', 'frog', 'cat', 'dog', 'frog', 'cat', 'dog']\n"
          ]
        }
      ],
      "source": [
        "print(animals + grocery)\n",
        "print (animals*3)"
      ]
    },
    {
      "cell_type": "markdown",
      "metadata": {
        "id": "EkapIZBL4pQL"
      },
      "source": [
        "## List methods\n",
        "\n",
        "### Append\n",
        "\n",
        "Append adds a new\n",
        "element to the end of a list.\n",
        "\n"
      ]
    },
    {
      "cell_type": "code",
      "execution_count": null,
      "metadata": {
        "id": "SsTMEr8x4pQL",
        "outputId": "7b9b8fa5-8589-4e7b-fec1-d445635b35dc"
      },
      "outputs": [
        {
          "name": "stdout",
          "output_type": "stream",
          "text": [
            "['frog', 'rabbit', 'dog', 'cat']\n"
          ]
        }
      ],
      "source": [
        "animals = ['frog', 'rabbit', 'dog']\n",
        "animals.append('cat') # animals += ('cat')\n",
        "print(animals)"
      ]
    },
    {
      "cell_type": "code",
      "execution_count": null,
      "metadata": {
        "id": "p_7UJ4934pQL",
        "outputId": "4ce6716e-bf3b-49a5-ac46-bf5b5b78b484"
      },
      "outputs": [
        {
          "name": "stdout",
          "output_type": "stream",
          "text": [
            "['dog', 'cat']\n"
          ]
        }
      ],
      "source": [
        "animals =['frog', 'rabbit', 'dog', 'cat']\n",
        "new_animals =[]\n",
        "for i in animals:\n",
        "    if len(i)==3:\n",
        "        new_animals.append(i)\n",
        "print(new_animals)"
      ]
    },
    {
      "cell_type": "markdown",
      "metadata": {
        "id": "BMS9QAfV4pQL"
      },
      "source": [
        "### Sort\n",
        "\n",
        "Sort arranges the elements of the list from low to high.\n"
      ]
    },
    {
      "cell_type": "code",
      "execution_count": null,
      "metadata": {
        "id": "kulutKzS4pQL",
        "outputId": "8866d353-85ab-470d-f3c6-315f6162289d"
      },
      "outputs": [
        {
          "name": "stdout",
          "output_type": "stream",
          "text": [
            "['cat', 'dog', 'frog', 'rabbit']\n"
          ]
        }
      ],
      "source": [
        "animals.sort()\n",
        "print(animals)"
      ]
    },
    {
      "cell_type": "code",
      "execution_count": null,
      "metadata": {
        "id": "DlRYKxWF4pQL",
        "outputId": "e79ae64c-db56-4a3b-a5b3-70b0c0309e9a"
      },
      "outputs": [
        {
          "name": "stdout",
          "output_type": "stream",
          "text": [
            "[-4, 4, 67]\n"
          ]
        }
      ],
      "source": [
        "numbers = [4,67,-4]\n",
        "numbers.sort()\n",
        "print(numbers)"
      ]
    },
    {
      "cell_type": "code",
      "execution_count": null,
      "metadata": {
        "id": "sL7VR8X44pQS",
        "outputId": "57bae065-6082-4612-da70-80a28181b3f5"
      },
      "outputs": [
        {
          "name": "stdout",
          "output_type": "stream",
          "text": [
            "['Rabbit', 'cat', 'dog', 'frog']\n"
          ]
        }
      ],
      "source": [
        "animals[3]= 'Rabbit'\n",
        "animals.sort()\n",
        "print(animals)"
      ]
    },
    {
      "cell_type": "code",
      "execution_count": null,
      "metadata": {
        "id": "txzBJOpZ4pQT",
        "outputId": "c7693eef-0d45-449a-8dd2-760770818b03"
      },
      "outputs": [
        {
          "name": "stdout",
          "output_type": "stream",
          "text": [
            "['lemons', 'oranges']\n"
          ]
        }
      ],
      "source": [
        "grocery = [['oranges','lemons'],['potatoes','onions'],['bread','butter']]\n",
        "grocery[0].sort()\n",
        "print(grocery[0])"
      ]
    },
    {
      "cell_type": "code",
      "execution_count": null,
      "metadata": {
        "id": "XsSBu1Jd4pQT",
        "outputId": "ac8b85d0-35a9-4ed1-e4a4-f5d1780f32ab"
      },
      "outputs": [
        {
          "name": "stdout",
          "output_type": "stream",
          "text": [
            "[['bread', 'butter'], ['oranges', 'lemons'], ['potatoes', 'onions']]\n"
          ]
        }
      ],
      "source": [
        "grocery = [['oranges','lemons'],['potatoes','onions'],['bread','butter']]\n",
        "grocery.sort()\n",
        "print(grocery)"
      ]
    },
    {
      "cell_type": "code",
      "execution_count": null,
      "metadata": {
        "id": "EZ4FTgne4pQT",
        "outputId": "ca9aa170-396d-4042-b42d-c338325194ae"
      },
      "outputs": [
        {
          "name": "stdout",
          "output_type": "stream",
          "text": [
            "[['lemons', 'oranges'], ['onions', 'potatoes'], ['bread', 'butter']]\n"
          ]
        }
      ],
      "source": [
        "grocery = [['oranges','lemons'],['potatoes','onions'],['bread','butter']]\n",
        "for i in grocery:\n",
        "    i.sort()\n",
        "print(grocery)"
      ]
    },
    {
      "cell_type": "markdown",
      "metadata": {
        "id": "83D2E8834pQT"
      },
      "source": [
        "### Deleting elements\n",
        "\n",
        "There are several ways to delete elements from a list. If you know the index of the\n",
        "element you want, you can use **pop**.\n",
        "\n",
        "**Pop** modifies the list and returns the element that was removed. If you don’t\n",
        "provide an index, it deletes and returns the last element.\n",
        "\n",
        "\n",
        "If you don’t need the removed value, you can use the **del** operator.\n",
        "\n",
        "To remove more than one element, you can use del with a slice index\n",
        "\n",
        "If you know the element you want to remove (but not the index), you can use\n",
        "**remove**."
      ]
    },
    {
      "cell_type": "code",
      "execution_count": 17,
      "metadata": {
        "id": "hQLASknj4pQU",
        "outputId": "d70efa28-b4dd-49eb-f1e1-f11a9124187c",
        "colab": {
          "base_uri": "https://localhost:8080/"
        }
      },
      "outputs": [
        {
          "output_type": "stream",
          "name": "stdout",
          "text": [
            "['frog', 'rabbit', 'dog', 'cat']\n",
            "['frog', 'rabbit', 'dog']\n",
            "cat\n"
          ]
        }
      ],
      "source": [
        "animals =['frog', 'rabbit', 'dog', 'cat']\n",
        "print(animals)\n",
        "x = animals.pop(-1) # the argument is the index of the object. The result of the operation can be saved to a variable.\n",
        "print(animals)\n",
        "print(x)"
      ]
    },
    {
      "cell_type": "code",
      "execution_count": null,
      "metadata": {
        "id": "rljTP3SQ4pQU",
        "outputId": "0f6ec9f1-abd6-40ae-c6e0-9e54d83f583b"
      },
      "outputs": [
        {
          "name": "stdout",
          "output_type": "stream",
          "text": [
            "['Rabbit', 'dog']\n"
          ]
        }
      ],
      "source": [
        "animals = ['Rabbit', 'dog','cat']\n",
        "animals.remove('cat') # argument - the object to be deleted.\n",
        "print(animals)"
      ]
    },
    {
      "cell_type": "code",
      "execution_count": null,
      "metadata": {
        "id": "k2V7TYHV4pQU",
        "outputId": "a5142bed-abdb-4bef-aa3c-a20fef6f6b04"
      },
      "outputs": [
        {
          "name": "stdout",
          "output_type": "stream",
          "text": [
            "['cat']\n"
          ]
        }
      ],
      "source": [
        "animals = ['Rabbit', 'dog','cat']\n",
        "del animals[:2]\n",
        "print (animals)"
      ]
    },
    {
      "cell_type": "markdown",
      "metadata": {
        "id": "zLishhOf4pQU"
      },
      "source": [
        "The **.index ()** method is used to search the lists. It returns the index of the object passed as an argument."
      ]
    },
    {
      "cell_type": "code",
      "execution_count": null,
      "metadata": {
        "colab": {
          "base_uri": "https://localhost:8080/"
        },
        "id": "-DHdKdpP4pQU",
        "outputId": "94c08b59-e335-45db-e6ef-16483c15a13e"
      },
      "outputs": [
        {
          "output_type": "stream",
          "name": "stdout",
          "text": [
            "[['oranges', 'lemons'], ['potatoes', 'onions'], ['bread', 'butter']]\n",
            "0\n"
          ]
        }
      ],
      "source": [
        "grocery = [['oranges','lemons'],['potatoes','onions'],['bread','butter']]\n",
        "print (grocery)\n",
        "for i in grocery[1]:\n",
        "    for b in i:\n",
        "        if b == 'p':\n",
        "            print(i.index(b)) ### returns the index of the first element which satisfies the requirements!\n"
      ]
    },
    {
      "cell_type": "code",
      "source": [
        "grocery = [['oranges','lemons'],['potatoes','onions'],['bread','butter']]\n",
        "for i in grocery[1]:\n",
        "    for b,p in enumerate(i):\n",
        "        if p == 'o':\n",
        "            print(b,p)"
      ],
      "metadata": {
        "colab": {
          "base_uri": "https://localhost:8080/"
        },
        "id": "Jl0hWOlIDp1n",
        "outputId": "1540b1e3-01f6-4b05-ff65-603fbfd64b86"
      },
      "execution_count": null,
      "outputs": [
        {
          "output_type": "stream",
          "name": "stdout",
          "text": [
            "1 o\n",
            "5 o\n",
            "0 o\n",
            "3 o\n"
          ]
        }
      ]
    },
    {
      "cell_type": "markdown",
      "metadata": {
        "id": "t1hfFxd14pQU"
      },
      "source": [
        "**.count ()** counts the number of elements and **.reverse ()**  reverses the list."
      ]
    },
    {
      "cell_type": "code",
      "execution_count": null,
      "metadata": {
        "id": "JeWuXgwv4pQV",
        "outputId": "29f4dcd0-57a5-40db-acdd-7d48210b247b"
      },
      "outputs": [
        {
          "name": "stdout",
          "output_type": "stream",
          "text": [
            "2\n",
            "['a', 'd', 'b', 'a']\n"
          ]
        }
      ],
      "source": [
        "letters = ['a','b','d','a']\n",
        "print(letters.count('a'))\n",
        "letters.reverse()\n",
        "print(letters)"
      ]
    },
    {
      "cell_type": "code",
      "execution_count": 20,
      "metadata": {
        "id": "oItQDuyN4pQV",
        "outputId": "ced9b12c-aa18-4633-8737-84b5528a779d",
        "colab": {
          "base_uri": "https://localhost:8080/"
        }
      },
      "outputs": [
        {
          "output_type": "stream",
          "name": "stdout",
          "text": [
            "1\n"
          ]
        }
      ],
      "source": [
        "animals = ['Rabbit', 'dog','cat']\n",
        "print(animals.count('a'))"
      ]
    },
    {
      "cell_type": "code",
      "execution_count": null,
      "metadata": {
        "colab": {
          "base_uri": "https://localhost:8080/"
        },
        "id": "BnykzRRT4pQV",
        "outputId": "b4e729ae-eb28-4487-8174-ab5c60e3e34d"
      },
      "outputs": [
        {
          "output_type": "stream",
          "name": "stdout",
          "text": [
            "[1, 1, 1, 1, 1, 1, 0, 0, 0, 1, 1, 1]\n"
          ]
        }
      ],
      "source": [
        "animals = ['Rabbit', 'dog','cat']\n",
        "print ([letter.count (\"a\") for letter in animals for p in letter])"
      ]
    },
    {
      "cell_type": "code",
      "source": [
        "animals = ['Rabbit', 'dog','cat']\n",
        "for word in animals:\n",
        "  for letter in word:\n",
        "    print (word.count (\"a\") )"
      ],
      "metadata": {
        "colab": {
          "base_uri": "https://localhost:8080/"
        },
        "id": "Pfd6QdQkEhqM",
        "outputId": "ba635aa8-3bc7-4850-d88d-52e9f56c8ca6"
      },
      "execution_count": null,
      "outputs": [
        {
          "output_type": "stream",
          "name": "stdout",
          "text": [
            "1\n",
            "1\n",
            "1\n",
            "1\n",
            "1\n",
            "1\n",
            "0\n",
            "0\n",
            "0\n",
            "1\n",
            "1\n",
            "1\n"
          ]
        }
      ]
    },
    {
      "cell_type": "code",
      "source": [
        "animals = ['Rabbit', 'dog','cat']\n",
        "for word in animals:\n",
        "  for letter in word:\n",
        "    total = word.count (\"a\")\n",
        "  print(total)"
      ],
      "metadata": {
        "colab": {
          "base_uri": "https://localhost:8080/"
        },
        "id": "hZM0Oyt-F0tC",
        "outputId": "e9c75852-c45a-4e74-d25f-4bb61743ad28"
      },
      "execution_count": 22,
      "outputs": [
        {
          "output_type": "stream",
          "name": "stdout",
          "text": [
            "1\n",
            "0\n",
            "1\n"
          ]
        }
      ]
    },
    {
      "cell_type": "code",
      "execution_count": null,
      "metadata": {
        "colab": {
          "base_uri": "https://localhost:8080/"
        },
        "id": "QKV2LcUk4pQV",
        "outputId": "daf84dab-4fd1-4beb-d3a5-4c5ebb71a4fc"
      },
      "outputs": [
        {
          "output_type": "stream",
          "name": "stdout",
          "text": [
            "[(1, 'R'), (1, 'a'), (2, 'b'), (2, 'b'), (1, 'i'), (1, 't'), (1, 'd'), (1, 'o'), (1, 'g'), (1, 'c'), (1, 'a'), (1, 't')]\n"
          ]
        }
      ],
      "source": [
        "animals = ['Rabbit', 'dog','cat']\n",
        "print ([ (letter.count (p),p)  for letter in animals for p in letter])"
      ]
    },
    {
      "cell_type": "code",
      "execution_count": null,
      "metadata": {
        "id": "gz7VKB_54pQW",
        "outputId": "3ae640ba-8600-4692-cab0-07af7cb43c23"
      },
      "outputs": [
        {
          "name": "stdout",
          "output_type": "stream",
          "text": [
            "[(1, 'a'), (1, 'i'), (1, 'o'), (1, 'a')]\n"
          ]
        }
      ],
      "source": [
        "animals = ['Rabbit', 'dog','cat']\n",
        "vowels = 'aeio'\n",
        "print ([ (word.count (p),p)  for word in animals for p in word if p in vowels])"
      ]
    },
    {
      "cell_type": "code",
      "execution_count": null,
      "metadata": {
        "id": "lMzdpQAK4pQW",
        "outputId": "77fd8e2e-d1e9-4977-fa6e-431969eb1a7d"
      },
      "outputs": [
        {
          "name": "stdout",
          "output_type": "stream",
          "text": [
            "1:(a)\n",
            "[1, 'a']\n",
            "1:(i)\n",
            "[1, 'i']\n",
            "1:(o)\n",
            "[1, 'o']\n",
            "1:(a)\n",
            "[1, 'a']\n"
          ]
        }
      ],
      "source": [
        "animals = ['Rabbit', 'dog','cat']\n",
        "vowels = 'aeio'\n",
        "for word in animals:\n",
        "    for p in word:\n",
        "        if p in vowels:\n",
        "            print(f'{word.count(p)}:({p})')\n",
        "            print([word.count(p),p])\n"
      ]
    },
    {
      "cell_type": "markdown",
      "metadata": {
        "id": "7QbVR-bB4pQW"
      },
      "source": [
        "Other methods https://docs.python.org/3/tutorial/datastructures.html"
      ]
    },
    {
      "cell_type": "markdown",
      "metadata": {
        "id": "GxZBa57l4pQW"
      },
      "source": [
        "### Lists and functions\n",
        "\n",
        "There are a number of built-in functions that can be used on lists that allow you\n",
        "to quickly look through a list without writing your own loops.\n",
        "\n",
        "The **sum()** function only works when the list elements are numbers. The other\n",
        "functions **max()**, **min()** work with lists of strings and other types that can\n",
        "be comparable.\n",
        "\n"
      ]
    },
    {
      "cell_type": "code",
      "execution_count": null,
      "metadata": {
        "id": "UFswg9zi4pQW",
        "outputId": "87472a37-1cb0-4619-d98f-189a93f2788f"
      },
      "outputs": [
        {
          "name": "stdout",
          "output_type": "stream",
          "text": [
            "19\n",
            "10\n",
            "1\n",
            "8\n"
          ]
        }
      ],
      "source": [
        "numbers = [1,4,6,8]\n",
        "print(sum(numbers))\n",
        "print ( sum(numbers [1:3]))\n",
        "print(min (numbers))\n",
        "print(max(numbers))"
      ]
    },
    {
      "cell_type": "code",
      "execution_count": 24,
      "metadata": {
        "id": "JZPj8KlX4pQW",
        "outputId": "2f69728e-7780-4e49-f274-dc7b8a2633e2",
        "colab": {
          "base_uri": "https://localhost:8080/"
        }
      },
      "outputs": [
        {
          "output_type": "stream",
          "name": "stdout",
          "text": [
            "Dog\n",
            "parrot\n"
          ]
        }
      ],
      "source": [
        "animals= ['cat','Dog', 'parrot', 'mouse']\n",
        "print(min (animals))\n",
        "print(max(animals))"
      ]
    },
    {
      "cell_type": "code",
      "execution_count": null,
      "metadata": {
        "id": "eD9KUZn84pQW",
        "outputId": "9fbfb1c1-1707-413c-fe2c-7570df5d2a85"
      },
      "outputs": [
        {
          "name": "stdout",
          "output_type": "stream",
          "text": [
            "cat-parrot-mouse\n",
            "catparrotmouse\n"
          ]
        }
      ],
      "source": [
        "animals= ['cat', 'parrot', 'mouse']\n",
        "print('-'.join(animals))\n",
        "new_animals =''\n",
        "for i in animals:\n",
        "    new_animals+=i\n",
        "print(new_animals)\n"
      ]
    },
    {
      "cell_type": "markdown",
      "metadata": {
        "id": "MHFLAKe_4pQX"
      },
      "source": [
        "### Task 2\n",
        "\n",
        "Given a list of integers.\n",
        "\n",
        "Return a list, where the first element is the count of positive numbers and the second element is sum of negative numbers.\n",
        "\n",
        "For input [1, 2, 3, 4, 5, 6, 7, 8, 9, 10, -11, -12, -13, -14, -15],\n",
        "\n",
        "you should return [10, -65]\n",
        "\n",
        "Arrays:\n",
        "1. 0, 2, 3, 0, 5, 6, 7, 8, 9, 10, -11, -12, -13, -14  ([8,-50])\n",
        "2. 0,0,0,0,0,0,0,0,0  ([0,0])\n"
      ]
    },
    {
      "cell_type": "code",
      "execution_count": null,
      "metadata": {
        "colab": {
          "base_uri": "https://localhost:8080/"
        },
        "id": "rIzukARA4pQX",
        "outputId": "09571c03-6647-4650-f124-f7de46decb65"
      },
      "outputs": [
        {
          "output_type": "stream",
          "name": "stdout",
          "text": [
            "10 -65\n"
          ]
        }
      ],
      "source": [
        "x = [1, 2, 3, 4, 5, 6, 7, 8, 9, 10, -11, -12, -13, -14, -15]\n"
      ]
    },
    {
      "cell_type": "markdown",
      "metadata": {
        "id": "hWgTKR-M4pQX"
      },
      "source": [
        "### Task 3\n",
        "\n",
        "You are given a list containing strings, integers and floating point numbers. Split it into three lists so that one contains only strings, the other contains only integers, and the third contains only floating point numbers. Note that when checking types, the type name is written without quotes, for example int.\n",
        "\n",
        "Input:\n",
        "\n",
        "         List 1: [1, 2, 5.6, 7.5, 'Boo', 1, 'RocknRoll']\n",
        "\n",
        "Output:\n",
        "\n",
        "         List 1: [1, 2, 1]\n",
        "         \n",
        "         List 2: [5.6, 7.5]\n",
        "         \n",
        "         List 3: ['Boo', 'RocknRoll']"
      ]
    },
    {
      "cell_type": "code",
      "execution_count": null,
      "metadata": {
        "id": "JhGw-7WR4pQX"
      },
      "outputs": [],
      "source": [
        "\n",
        "\n"
      ]
    },
    {
      "cell_type": "markdown",
      "metadata": {
        "id": "hqFK9YGs4pQX"
      },
      "source": [
        "### Task 4 home assignment\n",
        "\n",
        "You will be given an array which will have three values (tail, body, head). It is your job to re-arrange the array so that the animal is the right way round (head, body, tail).\n",
        "\n",
        "Same goes for all the other arrays/lists that you will get: you have to change the element positions with the same exact logics.\n",
        "\n",
        "1.[\"tail\", \"body\", \"head\"]), [\"head\", \"body\", \"tail\"])\n",
        "\n",
        "2.[\"tails\", \"body\", \"heads\"]), [\"heads\", \"body\", \"tails\"])\n",
        "\n",
        "3.[\"bottom\", \"middle\", \"top\"]), [\"top\", \"middle\", \"bottom\"])\n",
        "\n",
        "4.[\"lower legs\", \"torso\", \"upper legs\"]), [\"upper legs\", \"torso\", \"lower legs\"])\n",
        "\n",
        "5.[\"ground\", \"rainbow\", \"sky\"]), [\"sky\", \"rainbow\", \"ground\"])"
      ]
    },
    {
      "cell_type": "code",
      "execution_count": null,
      "metadata": {
        "id": "pmqqOkPM4pQY"
      },
      "outputs": [],
      "source": [
        "\n"
      ]
    },
    {
      "cell_type": "markdown",
      "metadata": {
        "id": "Nk2-FdpR4pQY"
      },
      "source": [
        "### Task 5 home assignment\n",
        "\n",
        "Complete the square sum function so that it squares each number passed into it and then sums the results together.\n",
        "\n",
        "For example, for [1, 2, 2] it should return 9 because 1^2 + 2^2 + 2^2 = 9.\n",
        "\n",
        "1.[0, 3, 4, 5]), 50)\n",
        "\n",
        "2. ([]), 0)\n",
        "\n",
        "3. ([-1,-2]), 5)\n",
        "\n",
        "4. ([-1,0,1]), 2)"
      ]
    },
    {
      "cell_type": "code",
      "execution_count": null,
      "metadata": {
        "id": "g81xg_PY4pQY"
      },
      "outputs": [],
      "source": [
        "\n"
      ]
    },
    {
      "cell_type": "markdown",
      "metadata": {
        "id": "rn5JGUG24pQY"
      },
      "source": [
        "### Task 6 home assignment\n",
        "\n",
        "\n",
        "\n",
        "Write a programme, which takes three arguments and generates a range of integers from min to max, with the step. The first integer is the minimum value, the second is the maximum of the range and the third is the step. (min < max)\n",
        "\n",
        "Input:\n",
        "minim = 2\n",
        "\n",
        "maxim = 10\n",
        "\n",
        "step = 2\n",
        "\n",
        "Output: [2,4,6,8,10]\n",
        "\n",
        "\n",
        "(1, 10, 3) # should return list of [1,4,7,10]\n",
        "\n",
        "(2, 10, 2) # should return array of [2, 4, 6, 8, 10]\n",
        "\n",
        "(1, 10, 3) # should return array of [1, 4, 7, 10]\n"
      ]
    },
    {
      "cell_type": "code",
      "execution_count": null,
      "metadata": {
        "id": "aoU0uKGL4pQY",
        "outputId": "4bdca41c-3a8a-4035-d0f8-f1aba29041ba"
      },
      "outputs": [
        {
          "name": "stdout",
          "output_type": "stream",
          "text": [
            "[1]\n"
          ]
        }
      ],
      "source": []
    },
    {
      "cell_type": "code",
      "execution_count": null,
      "metadata": {
        "id": "qciaY0CS4pQZ",
        "outputId": "d8776d0d-09f4-49dc-81ef-be03adddd2b2"
      },
      "outputs": [
        {
          "name": "stdout",
          "output_type": "stream",
          "text": [
            "[1]\n"
          ]
        }
      ],
      "source": []
    },
    {
      "cell_type": "markdown",
      "metadata": {
        "id": "5KjPDChY4pQZ"
      },
      "source": [
        "### Task 7 home assignment\n",
        "\n",
        "Given a sequence of numbers, find the largest pair sum in the sequence.\n",
        "\n",
        "For example\n",
        "\n",
        "[10, 14, 2, 23, 19] -->  42 (= 23 + 19)\n",
        "\n",
        "[99, 2, 2, 23, 19]  --> 122 (= 99 + 23)\n"
      ]
    },
    {
      "cell_type": "code",
      "execution_count": null,
      "metadata": {
        "id": "aGTzGINB4pQZ"
      },
      "outputs": [],
      "source": []
    },
    {
      "cell_type": "code",
      "execution_count": null,
      "metadata": {
        "id": "mtOhVoaJ4pQZ"
      },
      "outputs": [],
      "source": []
    },
    {
      "cell_type": "code",
      "execution_count": null,
      "metadata": {
        "id": "AD8_A9zl4pQZ"
      },
      "outputs": [],
      "source": [
        "\n"
      ]
    },
    {
      "cell_type": "markdown",
      "metadata": {
        "id": "r2WE4VjA4pQZ"
      },
      "source": [
        "### Lists and strings\n",
        "\n",
        "To convert from a string to a list of\n",
        "characters, you can use ***list***:\n",
        "\n",
        ">s = 'spam'\n",
        "\n",
        ">t = list(s)\n",
        "\n",
        ">print(t)\n",
        "\n",
        "['s', 'p', 'a', 'm']\n",
        "\n",
        "The list function breaks a string into individual letters. If you want to break a\n",
        "string into words, you can use the ***split method***:\n",
        "\n",
        ">s = 'pining for the fjords'\n",
        "\n",
        ">t = s.split()\n",
        "\n",
        "> print(t)\n",
        "\n",
        "['pining', 'for', 'the', 'fjords']\n",
        "\n",
        ">print(t[2])\n",
        "\n",
        "the\n",
        "\n",
        "You can call split with an optional argument called a ***delimiter*** that specifies\n",
        "which characters to use as word boundaries.\n",
        "\n",
        "The following example uses a hyphen\n",
        "as a delimiter:\n",
        "\n",
        ">s = 'spam-spam-spam'\n",
        "\n",
        ">s.split('-')\n",
        "\n",
        "['spam', 'spam', 'spam']\n",
        "\n",
        "***Join*** is the inverse of ***split***.\n",
        "\n",
        "It takes a list of strings and concatenates the elements.\n",
        "\n",
        "***join*** is a string method, so you have to invoke it on the delimiter and pass the list\n",
        "as a parameter:\n",
        "\n",
        "\n",
        ">t = ['pining', 'for', 'the', 'fjords']\n",
        "\n",
        ">' '.join(t)\n",
        "\n",
        "'pining for the fjords'\n",
        "\n",
        "In this case the delimiter is a space character, so ***join*** puts a space between words.\n",
        "\n",
        "\n",
        "To concatenate strings without spaces, you can use the empty string, “”, as a\n",
        "delimiter."
      ]
    },
    {
      "cell_type": "code",
      "execution_count": null,
      "metadata": {
        "id": "9oC0Aqtd4pQa",
        "outputId": "89b5aa9f-46cf-4ea3-acc9-a29e12e3ec75"
      },
      "outputs": [
        {
          "name": "stdout",
          "output_type": "stream",
          "text": [
            "['spam', 'spam', 'spam']\n",
            "spam!spam!spam!"
          ]
        }
      ],
      "source": [
        "s = 'spam-spam-spam'\n",
        "t=s.split('-')\n",
        "print(t)\n",
        "print('!'.join(t),end=('!'))\n"
      ]
    },
    {
      "cell_type": "code",
      "execution_count": null,
      "metadata": {
        "id": "xKq7LXBm4pQa",
        "outputId": "f42fa473-5bdd-4e86-802b-9b1a9dde9b45"
      },
      "outputs": [
        {
          "name": "stdout",
          "output_type": "stream",
          "text": [
            "['big', 'round', 'green']\n"
          ]
        },
        {
          "data": {
            "text/plain": [
              "list"
            ]
          },
          "execution_count": 35,
          "metadata": {},
          "output_type": "execute_result"
        }
      ],
      "source": [
        "k = 'big,round,green'\n",
        "k = k.split(',')\n",
        "print(k)\n",
        "type(k)\n",
        "\n"
      ]
    },
    {
      "cell_type": "code",
      "execution_count": null,
      "metadata": {
        "id": "Tc71Qwxl4pQa",
        "outputId": "89829eb0-18c5-42ab-fefd-3d5b8b75b7b9"
      },
      "outputs": [
        {
          "data": {
            "text/plain": [
              "str"
            ]
          },
          "execution_count": 36,
          "metadata": {},
          "output_type": "execute_result"
        }
      ],
      "source": [
        "k = ' '.join(k)\n",
        "type(k)"
      ]
    },
    {
      "cell_type": "markdown",
      "metadata": {
        "id": "aKqrHk2r4pQa"
      },
      "source": [
        "### Task 8\n",
        "\n",
        "Write a programme that accepts a string parameter, and reverses each word in the string. All spaces in the string should be retained.\n",
        "Examples\n",
        "\n",
        "\"This is an example!\" ==> \"sihT si na !elpmaxe\"\n",
        "\n",
        "\"double  spaces\"      ==> \"elbuod  secaps\"\n",
        "\n"
      ]
    },
    {
      "cell_type": "code",
      "execution_count": null,
      "metadata": {
        "id": "DgqYkTSx4pQa"
      },
      "outputs": [],
      "source": []
    },
    {
      "cell_type": "markdown",
      "metadata": {
        "id": "BNj-Bapj4pQb"
      },
      "source": [
        "### Task 9\n",
        "\n",
        "You need to check the provided string for good ideas 'good' and bad ideas 'bad'. If there are one or two good ideas, return 'Publish!', if there are more than 2 return 'I smell a series!'. If there are no good ideas, as is often the case, return 'Fail!'.\n",
        "\n",
        "'bad', 'bad', 'bad', ------'Fail!'\n",
        "\n",
        "'good', 'bad', 'bad', 'bad', 'bad'------ 'Publish!'\n",
        "\n",
        "'good', 'bad', 'bad', 'bad', 'bad', 'good', 'bad', 'bad', 'good'------ 'I smell a series!'"
      ]
    },
    {
      "cell_type": "code",
      "execution_count": null,
      "metadata": {
        "id": "FQLeQ8I74pQb"
      },
      "outputs": [],
      "source": []
    },
    {
      "cell_type": "markdown",
      "metadata": {
        "id": "6iPpFCIo4pQb"
      },
      "source": [
        "### Task 10\n",
        "\n",
        "INPUT FORMAT:\n",
        "\n",
        "     Two strings and number N - integer and positive\n",
        "     \n",
        " Determine whether the text contains the N-th word (numbering from 1) and display it. If there is no word, display \"There is no such word\"\n",
        "\n",
        "OUTPUT FORMAT:\n",
        "\n",
        "     Line, answer to the problem\n",
        "     \n",
        "**Example1:**\n",
        "\n",
        "Input 1: dog cat mouse\n",
        "\n",
        "Input 2:  parrot goose\n",
        "\n",
        "Input 3:  5\n",
        "\n",
        "Output:  goose\n",
        "\n",
        "**Example 2:**\n",
        "\n",
        "Input 1: dog cat mouse\n",
        "\n",
        "Input 2:  parrot goose\n",
        "\n",
        "Input 3:  6\n",
        "\n",
        "Output:  \"There is no such word\""
      ]
    },
    {
      "cell_type": "code",
      "execution_count": null,
      "metadata": {
        "id": "eavHG0Kn4pQb"
      },
      "outputs": [],
      "source": []
    },
    {
      "cell_type": "markdown",
      "metadata": {
        "id": "gtDVwuFh4pQb"
      },
      "source": [
        "### 'Map' function\n",
        "\n",
        "**Map()** is a built-in function that allows you to process and transform all the items in an iterable without using an explicit for loop, a technique commonly known as ***mapping***.\n",
        "\n",
        "**map()** is useful when you need to apply a transformation function to each item in an iterable and transform them into a new iterable.\n",
        "\n",
        "You can use any built-in function with map(), provided that the function takes an argument and returns a value.\n",
        "\n",
        "For example, you have a list of numbers, initially all these numbers have a string data type, to work with them you need to convert them to an integer:\n",
        "\n",
        ">old_list = ['1', '2', '3', '4', '5', '6', '7']\n",
        "\n",
        "> new_list = list(map(int, old_list))\n",
        "\n",
        ">print (new_list)\n",
        "\n",
        ">[1, 2, 3, 4, 5, 6, 7]\n",
        "\n",
        "or\n",
        "\n",
        ">print(list(map(bool, [9, 0, 8, -288, 998, 0])))\n",
        "\n",
        ">[True, False, True, True, True, False]"
      ]
    },
    {
      "cell_type": "code",
      "execution_count": null,
      "metadata": {
        "id": "QmI-P50e4pQb",
        "outputId": "c7108ea8-ec6b-4457-a521-04c31c58ad0a"
      },
      "outputs": [
        {
          "name": "stdout",
          "output_type": "stream",
          "text": [
            "[True, True, True]\n"
          ]
        }
      ],
      "source": [
        "string = 'word for word'\n",
        "print(list(map(bool,string.split(' '))))\n"
      ]
    },
    {
      "cell_type": "markdown",
      "metadata": {
        "id": "jl6fd78f4pQc"
      },
      "source": [
        "### Task 11\n",
        "\n",
        "Given a long number, return all the possible sum of two digits of it.\n",
        "\n",
        "For example, 12345: all possible sum of two digits from that number are:\n",
        "\n",
        "[ 1 + 2, 1 + 3, 1 + 4, 1 + 5, 2 + 3, 2 + 4, 2 + 5, 3 + 4, 3 + 5, 4 + 5 ]\n",
        "\n",
        "Therefore the result must be:\n",
        "\n",
        "[ 3, 4, 5, 6, 5, 6, 7, 7, 8, 9 ]\n",
        "\n",
        "(156), [ 6, 7, 11 ])\n",
        "\n",
        "(81596), [ 9, 13, 17, 14, 6, 10, 7, 14, 11, 15 ])\n",
        "\n",
        "3852 [ 11, 8, 5, 13, 10, 7 ])\n",
        "\n",
        "(3264128), [ 5, 9, 7, 4, 5, 11, 8, 6, 3, 4, 10, 10, 7, 8, 14, 5, 6, 12, 3, 9, 10 ])\n",
        "\n",
        "(999999), [ 18, 18, 18, 18, 18, 18, 18, 18, 18, 18, 18, 18, 18, 18, 18 ])"
      ]
    },
    {
      "cell_type": "code",
      "execution_count": null,
      "metadata": {
        "id": "Pvf67Ll44pQc"
      },
      "outputs": [],
      "source": []
    },
    {
      "cell_type": "markdown",
      "metadata": {
        "id": "dMLJ4loI4pQc"
      },
      "source": [
        "### Task 12\n",
        "\n",
        "You have an integer array which was ordered by ascending except one number.\n",
        "\n",
        "\n",
        "You need to figure out the  breaker. Breaker is the item, when removed from sequence, sequence becomes ordered by ascending.\n",
        "\n",
        "For Example: [1,2,3,4,17,5,6,7,8] => 17 is the  breaker.\n",
        "\n",
        "For Example: [19,27,33,34,112,578,116,170,800] => 578 is the  breaker.\n",
        "    \n",
        "Output: the  breaker\n",
        "    \n"
      ]
    },
    {
      "cell_type": "code",
      "execution_count": null,
      "metadata": {
        "id": "KxMQxyk34pQc"
      },
      "outputs": [],
      "source": []
    },
    {
      "cell_type": "code",
      "execution_count": null,
      "metadata": {
        "id": "I6OOJczh4pQc"
      },
      "outputs": [],
      "source": [
        "\n"
      ]
    },
    {
      "cell_type": "code",
      "execution_count": null,
      "metadata": {
        "id": "7t27UsSe4pQc"
      },
      "outputs": [],
      "source": []
    }
  ],
  "metadata": {
    "kernelspec": {
      "display_name": "Python 3",
      "language": "python",
      "name": "python3"
    },
    "language_info": {
      "codemirror_mode": {
        "name": "ipython",
        "version": 3
      },
      "file_extension": ".py",
      "mimetype": "text/x-python",
      "name": "python",
      "nbconvert_exporter": "python",
      "pygments_lexer": "ipython3",
      "version": "3.8.3"
    },
    "colab": {
      "provenance": [],
      "include_colab_link": true
    }
  },
  "nbformat": 4,
  "nbformat_minor": 0
}