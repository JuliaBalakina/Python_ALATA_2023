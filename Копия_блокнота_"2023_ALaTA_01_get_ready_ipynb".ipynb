{
  "cells": [
    {
      "cell_type": "code",
      "execution_count": 1,
      "metadata": {
        "id": "2-xwiv7qpzwE",
        "outputId": "207c803f-eccc-44df-dfc2-c62491ca13b0",
        "colab": {
          "base_uri": "https://localhost:8080/"
        }
      },
      "outputs": [
        {
          "output_type": "stream",
          "name": "stdout",
          "text": [
            "Hello\n",
            "1\n",
            "22fff\n",
            "2\n"
          ]
        }
      ],
      "source": [
        "print (\"Hello\")\n",
        "print(1)\n",
        "print ('2'+'2'+'fff')\n",
        "print (1+1)"
      ]
    },
    {
      "cell_type": "markdown",
      "metadata": {
        "id": "yYsXYAuYpzwI"
      },
      "source": [
        "### Values and Types\n",
        "\n",
        "\n",
        "A **value** is one of the basic things a program works with, like a letter or a number.\n",
        "\n",
        "The values above are ***1***, ***\"2\"*** and ***“Hello”***, ***\"fff\"***\n",
        "\n",
        "\n",
        "These values belong to different types: 1 is an **integer**, and “Hello” is a\n",
        "**string**, so called because it contains a “string” of letters.\n",
        "\n",
        "Strings are enclosed in quotation marks.\n",
        "\n",
        "\n",
        "The print statement also works for integers.\n",
        "\n",
        "\n",
        "Python knows the difference between an integer number and a string.\n",
        "\n",
        "\n",
        "For example “+” means “addition” if something is a number and “concatenate” if something is a string.\n",
        "\n",
        "\n",
        "Python knows what “type” everything is.\n",
        "Some operations are prohibited:\n",
        "\n",
        "\n",
        "You cannot add integer \"1” to a string\n",
        "\n",
        "\n",
        "We can ask Python what type something is by using **the type() function**.\n",
        "\n"
      ]
    },
    {
      "cell_type": "code",
      "execution_count": 3,
      "metadata": {
        "id": "mNukj-lkpzwL",
        "outputId": "da8db615-0c9f-4152-e633-7ab9a73c24d7",
        "colab": {
          "base_uri": "https://localhost:8080/"
        }
      },
      "outputs": [
        {
          "output_type": "execute_result",
          "data": {
            "text/plain": [
              "int"
            ]
          },
          "metadata": {},
          "execution_count": 3
        }
      ],
      "source": [
        "type(1)\n"
      ]
    },
    {
      "cell_type": "code",
      "execution_count": null,
      "metadata": {
        "id": "SK-a6K1wpzwM",
        "outputId": "bc7bc16c-f2e4-46fe-820e-99801ab775f8"
      },
      "outputs": [
        {
          "data": {
            "text/plain": [
              "str"
            ]
          },
          "execution_count": 9,
          "metadata": {},
          "output_type": "execute_result"
        }
      ],
      "source": [
        "type('hello')"
      ]
    },
    {
      "cell_type": "code",
      "execution_count": null,
      "metadata": {
        "id": "gDCVlE1XpzwN",
        "outputId": "8760dc82-6692-4812-b1d5-acff2a25c438"
      },
      "outputs": [
        {
          "data": {
            "text/plain": [
              "str"
            ]
          },
          "execution_count": 7,
          "metadata": {},
          "output_type": "execute_result"
        }
      ],
      "source": [
        "k = 'nice'\n",
        "type (k)"
      ]
    },
    {
      "cell_type": "code",
      "execution_count": 9,
      "metadata": {
        "id": "p5BmJ7a0pzwP",
        "outputId": "95323777-aa7e-4400-bb3a-197786deb392",
        "colab": {
          "base_uri": "https://localhost:8080/"
        }
      },
      "outputs": [
        {
          "output_type": "stream",
          "name": "stdout",
          "text": [
            "Hello1\n",
            "PTD\n",
            "6\n",
            "6\n"
          ]
        }
      ],
      "source": [
        "print('Hello' +\"1\")\n",
        "k= 1\n",
        "l= 2\n",
        "m=3\n",
        "print(\"P\"+\"T\"+\"D\")\n",
        "print(k+l+m)\n",
        "p=(k+l)\n",
        "print (p+m)\n",
        "\n"
      ]
    },
    {
      "cell_type": "code",
      "execution_count": null,
      "metadata": {
        "id": "Bw3VOzEppzwP",
        "outputId": "b55103d9-85dc-4965-aed9-9c7e187dd1c1"
      },
      "outputs": [
        {
          "name": "stdout",
          "output_type": "stream",
          "text": [
            "3\n"
          ]
        }
      ],
      "source": [
        "print(1+2)"
      ]
    },
    {
      "cell_type": "code",
      "execution_count": null,
      "metadata": {
        "id": "f5bEpBPEpzwQ",
        "outputId": "88be4dff-390b-4e0d-9147-43befee26130"
      },
      "outputs": [
        {
          "data": {
            "text/plain": [
              "'nice'"
            ]
          },
          "execution_count": 2,
          "metadata": {},
          "output_type": "execute_result"
        }
      ],
      "source": [
        "\"ni\"+'ce'"
      ]
    },
    {
      "cell_type": "markdown",
      "metadata": {
        "id": "c19tzJ2xpzwR"
      },
      "source": [
        "### Several Types of Numbers\n",
        "\n",
        "Numbers have two main types\n",
        "\n",
        "-  **Integers** are whole numbers:\n",
        "   -14, -2, 0, 1, 100, 401233\n",
        "\n",
        "\n",
        "-  **Floating Point Numbers** have  decimal parts:  -2.5 , 0.0, 98.6, 14.0\n",
        "\n",
        "\n",
        "There are other number types - they are variations on float and integer\n"
      ]
    },
    {
      "cell_type": "code",
      "execution_count": null,
      "metadata": {
        "id": "ynEyZIZxpzwR",
        "outputId": "f5ffd133-50fa-45bd-89a7-9c33675c3dd1"
      },
      "outputs": [
        {
          "name": "stdout",
          "output_type": "stream",
          "text": [
            "<class 'int'>\n",
            "<class 'int'>\n"
          ]
        }
      ],
      "source": [
        "y = 2\n",
        "print(type(2))\n",
        "print(type(y))"
      ]
    },
    {
      "cell_type": "markdown",
      "metadata": {
        "id": "6VhwTF5cpzwR"
      },
      "source": [
        "When you put an integer and floating point in an expression, the integer is implicitly converted to a float\n",
        "\n",
        "You can control this with the built-in functions int() and float()\n"
      ]
    },
    {
      "cell_type": "code",
      "execution_count": 10,
      "metadata": {
        "id": "uqfb2zFGpzwS",
        "outputId": "460fdd6f-be71-4c70-e90d-0fbe6a0bd1be",
        "colab": {
          "base_uri": "https://localhost:8080/"
        }
      },
      "outputs": [
        {
          "output_type": "execute_result",
          "data": {
            "text/plain": [
              "34"
            ]
          },
          "metadata": {},
          "execution_count": 10
        }
      ],
      "source": [
        "float(42)\n",
        "int (34.0)"
      ]
    },
    {
      "cell_type": "code",
      "execution_count": null,
      "metadata": {
        "id": "Vcn_oEl9pzwS",
        "outputId": "c48dd097-130b-498d-b942-9ce6c0efd953"
      },
      "outputs": [
        {
          "name": "stdout",
          "output_type": "stream",
          "text": [
            "42.0\n"
          ]
        },
        {
          "data": {
            "text/plain": [
              "float"
            ]
          },
          "execution_count": 37,
          "metadata": {},
          "output_type": "execute_result"
        }
      ],
      "source": [
        "x = float(42)\n",
        "print(x)\n",
        "type(x)"
      ]
    },
    {
      "cell_type": "code",
      "execution_count": null,
      "metadata": {
        "id": "5rxiurHGpzwS",
        "outputId": "a9932ce9-24dc-4be8-c681-f706caa4d498"
      },
      "outputs": [
        {
          "data": {
            "text/plain": [
              "3"
            ]
          },
          "execution_count": 4,
          "metadata": {},
          "output_type": "execute_result"
        }
      ],
      "source": [
        "int(3.0)"
      ]
    },
    {
      "cell_type": "code",
      "execution_count": null,
      "metadata": {
        "id": "u7cCkS_BpzwS",
        "outputId": "84e46264-6224-4ec0-e55e-265c879b11e7"
      },
      "outputs": [
        {
          "data": {
            "text/plain": [
              "int"
            ]
          },
          "execution_count": 13,
          "metadata": {},
          "output_type": "execute_result"
        }
      ],
      "source": [
        "i = 42\n",
        "type(i)\n",
        "\n",
        "\n"
      ]
    },
    {
      "cell_type": "code",
      "execution_count": null,
      "metadata": {
        "id": "2OKtolGtpzwS",
        "outputId": "148b222b-f21a-4c6c-afad-d72a64e932f3"
      },
      "outputs": [
        {
          "name": "stdout",
          "output_type": "stream",
          "text": [
            "42.0\n"
          ]
        },
        {
          "data": {
            "text/plain": [
              "float"
            ]
          },
          "execution_count": 14,
          "metadata": {},
          "output_type": "execute_result"
        }
      ],
      "source": [
        "f = float(i) ### i = 42, f=float(42)\n",
        "print(f)\n",
        "type(f)"
      ]
    },
    {
      "cell_type": "code",
      "execution_count": null,
      "metadata": {
        "id": "yi5uFRYgpzwT",
        "outputId": "707c1e5c-65f1-4ddb-b564-678bc3d1c754"
      },
      "outputs": [
        {
          "data": {
            "text/plain": [
              "int"
            ]
          },
          "execution_count": 6,
          "metadata": {},
          "output_type": "execute_result"
        }
      ],
      "source": [
        "a = 1\n",
        "type(a)"
      ]
    },
    {
      "cell_type": "code",
      "execution_count": 16,
      "metadata": {
        "id": "qhc4AUt5pzwT",
        "outputId": "9541eeba-3202-400d-83e9-eeff576c4401",
        "colab": {
          "base_uri": "https://localhost:8080/"
        }
      },
      "outputs": [
        {
          "output_type": "stream",
          "name": "stdout",
          "text": [
            "1\n",
            "2\n"
          ]
        }
      ],
      "source": [
        "a =1\n",
        "b = str(a) ### b = str (1)\n",
        "type(b)\n",
        "print(b)\n",
        "print(a+int(b))\n",
        "\n"
      ]
    },
    {
      "cell_type": "code",
      "execution_count": 22,
      "metadata": {
        "id": "SzyXUgQOpzwT",
        "outputId": "e386c975-de59-4c14-ce29-cfcbe59d87d4",
        "colab": {
          "base_uri": "https://localhost:8080/"
        }
      },
      "outputs": [
        {
          "output_type": "stream",
          "name": "stdout",
          "text": [
            "8.0\n",
            "8.0\n",
            "13\n"
          ]
        }
      ],
      "source": [
        "a =8\n",
        "a = float(a)\n",
        "print(a)\n",
        "a = str(a)\n",
        "print(a)\n",
        "a=float(a)\n",
        "print(int(a+5))\n"
      ]
    },
    {
      "cell_type": "code",
      "execution_count": 24,
      "metadata": {
        "id": "PrHUGFwnpzwT",
        "outputId": "3990fe83-f612-4390-82b4-57b91aaebabd",
        "colab": {
          "base_uri": "https://localhost:8080/"
        }
      },
      "outputs": [
        {
          "output_type": "stream",
          "name": "stdout",
          "text": [
            "1\n",
            "11\n",
            "16\n"
          ]
        }
      ],
      "source": [
        "b=\"1\"\n",
        "print(b)\n",
        "print('1'+ b) ### \"1\" and b - strings. That is why concatenation occurs, when two strings merge into one.\n",
        "a='1'+ b\n",
        "print(int(a)+5)"
      ]
    },
    {
      "cell_type": "code",
      "execution_count": null,
      "metadata": {
        "id": "jrqP2t1gpzwT",
        "outputId": "5ab6259f-02de-4edf-9651-54906204db19"
      },
      "outputs": [
        {
          "name": "stdout",
          "output_type": "stream",
          "text": [
            "2\n"
          ]
        }
      ],
      "source": [
        "print (1+int(b)) # 1+1"
      ]
    },
    {
      "cell_type": "markdown",
      "metadata": {
        "id": "D9DIhTAHpzwT"
      },
      "source": [
        "### Numeric Expressions\n",
        "\n",
        "\n",
        "'+'  Addition\n",
        "\n",
        "'-'\tSubtraction\n",
        "\n",
        "'*'\tMultiplication\n",
        "\n",
        "\n",
        "'/'\tDivision\n",
        "\n",
        "\n",
        "'**' Power\n",
        "\n",
        "\n",
        "'%'\tRemainder (always non-negative)\n"
      ]
    },
    {
      "cell_type": "code",
      "execution_count": null,
      "metadata": {
        "id": "uNuPXqqRpzwT",
        "outputId": "9e9bdc62-8e91-4ee0-d55d-bfd21bbbdbf2"
      },
      "outputs": [
        {
          "name": "stdout",
          "output_type": "stream",
          "text": [
            "1\n"
          ]
        }
      ],
      "source": [
        "print(7 % 3) ###\n",
        "7 - (3*2) остаток от целочисленного деления (remainder of integer division)"
      ]
    },
    {
      "cell_type": "code",
      "execution_count": null,
      "metadata": {
        "id": "WEZFPJfXpzwU",
        "outputId": "f775ebed-4596-4dc0-a277-d8ef37664752"
      },
      "outputs": [
        {
          "data": {
            "text/plain": [
              "1"
            ]
          },
          "execution_count": 30,
          "metadata": {},
          "output_type": "execute_result"
        }
      ],
      "source": [
        "11%2 # 11-10"
      ]
    },
    {
      "cell_type": "code",
      "execution_count": null,
      "metadata": {
        "id": "hMGtLoktpzwU",
        "outputId": "ef58ec7a-b7b6-47ba-d1ef-92fedf0b4fc2"
      },
      "outputs": [
        {
          "data": {
            "text/plain": [
              "4"
            ]
          },
          "execution_count": 31,
          "metadata": {},
          "output_type": "execute_result"
        }
      ],
      "source": [
        "199%5 # 199 - 195"
      ]
    },
    {
      "cell_type": "code",
      "execution_count": null,
      "metadata": {
        "id": "5M6_8yt_pzwU",
        "outputId": "76825b64-63d3-4b71-ee1d-96c9de2d8bde"
      },
      "outputs": [
        {
          "name": "stdout",
          "output_type": "stream",
          "text": [
            "4.75\n",
            "4.0\n"
          ]
        }
      ],
      "source": [
        "print(9.5 / 2)\n",
        "print(9.5 // 2) # '//' Special operation to stick with integers. It returns an integer answer,\n",
        "              #rounded strictly down in case of fractional answers."
      ]
    },
    {
      "cell_type": "code",
      "execution_count": null,
      "metadata": {
        "id": "OfLoZQPVpzwU",
        "outputId": "f5964450-df29-48bc-9a07-e2494481350a"
      },
      "outputs": [
        {
          "name": "stdout",
          "output_type": "stream",
          "text": [
            "3.3333333333333335\n",
            "3\n"
          ]
        }
      ],
      "source": [
        "print(10/3)\n",
        "print(10//3)"
      ]
    },
    {
      "cell_type": "code",
      "execution_count": null,
      "metadata": {
        "id": "T0OGf0vipzwU",
        "outputId": "1130bbaf-2a45-4dc6-cace-46686fa4de01"
      },
      "outputs": [
        {
          "data": {
            "text/plain": [
              "19"
            ]
          },
          "execution_count": 35,
          "metadata": {},
          "output_type": "execute_result"
        }
      ],
      "source": [
        "139//7"
      ]
    },
    {
      "cell_type": "markdown",
      "metadata": {
        "id": "KhxTi3rQpzwU"
      },
      "source": [
        "### Order of Evaluation\n",
        "\n",
        "When we string operators together - Python must know which one to do first\n",
        "\n",
        "This is called “operator precedence”\n",
        "\n",
        "Which operator “takes precedence” over the others?\n",
        "\n",
        "x = 1 + 2 ** 3 / 4 * 5\n",
        "\n",
        "Highest precedence rule to lowest precedence rule:\n",
        "\n",
        "Parentheses are always respected\n",
        "\n",
        "Exponentiation (raise to a power)\n",
        "\n",
        "Multiplication, Division, and Remainder\n",
        "\n",
        "Addition and Subtraction\n",
        "\n",
        "Left to right\n",
        "\n",
        "\n"
      ]
    },
    {
      "cell_type": "code",
      "execution_count": null,
      "metadata": {
        "id": "tHmws29opzwU",
        "outputId": "1cc5e780-e6fc-4d78-ff5b-917f79f67fd9"
      },
      "outputs": [
        {
          "name": "stdout",
          "output_type": "stream",
          "text": [
            "11.0\n"
          ]
        }
      ],
      "source": [
        "x = 1 + 2 ** 3 / 4 * 5  # 2**3 =8, 8|4 = 2, 2*5 = 10, 1+10 =11\n",
        "print (x)"
      ]
    },
    {
      "cell_type": "markdown",
      "metadata": {
        "id": "AEbZWNBmpzwV"
      },
      "source": [
        "### Converting between types\n",
        "\n",
        "**int()**     converts anything to integer\n",
        "\n",
        "**float()**    converts anything to floating point number\n",
        "\n",
        "**str()**      converts anything to string\n",
        "\n"
      ]
    },
    {
      "cell_type": "code",
      "execution_count": null,
      "metadata": {
        "id": "6HdT7mPHpzwV",
        "outputId": "e91afacf-090e-493d-8f1e-aca7817ba961"
      },
      "outputs": [
        {
          "name": "stdout",
          "output_type": "stream",
          "text": [
            "5\n",
            "7\n",
            "5\n",
            "5.0\n"
          ]
        }
      ],
      "source": [
        "x = int('5')\n",
        "print(x)\n",
        "print(2 + int('5'))\n",
        "print(str(5))\n",
        "print(float(5))"
      ]
    },
    {
      "cell_type": "code",
      "execution_count": null,
      "metadata": {
        "id": "o6mmGdCepzwV",
        "outputId": "d44cb6d8-ed0d-4e4a-dfe6-03a326c5813b"
      },
      "outputs": [
        {
          "name": "stdout",
          "output_type": "stream",
          "text": [
            "<class 'str'>\n"
          ]
        }
      ],
      "source": [
        "print(type(str(5647)))\n"
      ]
    },
    {
      "cell_type": "code",
      "execution_count": null,
      "metadata": {
        "id": "QNzIkElCpzwV",
        "outputId": "52b5f370-4ba7-4c1e-c27d-2ea79b445c9b"
      },
      "outputs": [
        {
          "data": {
            "text/plain": [
              "str"
            ]
          },
          "execution_count": 24,
          "metadata": {},
          "output_type": "execute_result"
        }
      ],
      "source": [
        "x = str(5647)\n",
        "type(x)"
      ]
    },
    {
      "cell_type": "code",
      "execution_count": null,
      "metadata": {
        "id": "HxN8rZYEpzwV",
        "outputId": "0db930d4-01dd-48c8-a8f6-8224e6d62c2e"
      },
      "outputs": [
        {
          "name": "stdout",
          "output_type": "stream",
          "text": [
            "4\n"
          ]
        },
        {
          "data": {
            "text/plain": [
              "str"
            ]
          },
          "execution_count": 42,
          "metadata": {},
          "output_type": "execute_result"
        }
      ],
      "source": [
        "a = str(1+3)\n",
        "print(a)\n",
        "type(a)"
      ]
    },
    {
      "cell_type": "markdown",
      "metadata": {
        "id": "N7tDFMl5pzwV"
      },
      "source": [
        "### Task\n",
        "\n",
        "Given are an integer 5 and a string '55':\n",
        "\n",
        "1. convert a string into an integer\n",
        "2. find the sum of both integers\n"
      ]
    },
    {
      "cell_type": "code",
      "execution_count": null,
      "metadata": {
        "id": "2vJPcclzpzwV",
        "outputId": "1b9f4306-24d8-44b4-e3b9-4da74a310d07"
      },
      "outputs": [
        {
          "name": "stdout",
          "output_type": "stream",
          "text": [
            "60\n"
          ]
        }
      ],
      "source": [
        "a = 5\n",
        "b = int('55')\n",
        "print(a+b)"
      ]
    },
    {
      "cell_type": "code",
      "execution_count": null,
      "metadata": {
        "id": "LtkLWVwgpzwV",
        "outputId": "cef062b9-14ee-4031-f02b-fdda3189e922"
      },
      "outputs": [
        {
          "name": "stdout",
          "output_type": "stream",
          "text": [
            "60\n"
          ]
        }
      ],
      "source": [
        "print(5+int('55'))"
      ]
    },
    {
      "cell_type": "markdown",
      "metadata": {
        "id": "1YDSPqDtpzwV"
      },
      "source": [
        "# Task\n",
        "\n",
        "Given are two integers  7 and 7\n",
        "1. covert integers into strings\n",
        "2. concatenate two strings"
      ]
    },
    {
      "cell_type": "code",
      "execution_count": null,
      "metadata": {
        "id": "6lKuwxDzpzwa",
        "outputId": "481c497c-7825-4528-a58c-fc290f555937"
      },
      "outputs": [
        {
          "name": "stdout",
          "output_type": "stream",
          "text": [
            "77\n"
          ]
        }
      ],
      "source": [
        "print(str(7)+str(7))\n"
      ]
    },
    {
      "cell_type": "code",
      "execution_count": null,
      "metadata": {
        "id": "_eFWcoi2pzwa",
        "outputId": "ed11dc61-6dac-4766-8c69-df33000cd3cd"
      },
      "outputs": [
        {
          "name": "stdout",
          "output_type": "stream",
          "text": [
            "14\n"
          ]
        }
      ],
      "source": [
        "print (str (7+7))"
      ]
    },
    {
      "cell_type": "markdown",
      "metadata": {
        "id": "6I0snz4Upzwa"
      },
      "source": [
        "### User Input\n",
        "\n",
        "We can instruct Python to pause and read data from the user using **the input()  function.\n",
        "\n",
        "!!! The input()  function returns a string !!!\n"
      ]
    },
    {
      "cell_type": "code",
      "execution_count": 28,
      "metadata": {
        "id": "MfR6ak6Qpzwa",
        "outputId": "1dd3340a-d992-49b9-d4bc-a60b4391c105",
        "colab": {
          "base_uri": "https://localhost:8080/"
        }
      },
      "outputs": [
        {
          "name": "stdout",
          "output_type": "stream",
          "text": [
            "Who are you? Marta\n"
          ]
        },
        {
          "output_type": "execute_result",
          "data": {
            "text/plain": [
              "str"
            ]
          },
          "metadata": {},
          "execution_count": 28
        }
      ],
      "source": [
        "name = input('Who are you? ')\n",
        "type(name)\n"
      ]
    },
    {
      "cell_type": "code",
      "execution_count": 29,
      "metadata": {
        "id": "BX5CzGPtpzwb",
        "outputId": "c64470ed-3d73-4ea8-8b56-15408f72780f",
        "colab": {
          "base_uri": "https://localhost:8080/"
        }
      },
      "outputs": [
        {
          "output_type": "stream",
          "name": "stdout",
          "text": [
            "Welcome, Marta!\n"
          ]
        }
      ],
      "source": [
        "print('Welcome,', name + '!')"
      ]
    },
    {
      "cell_type": "code",
      "execution_count": 30,
      "metadata": {
        "id": "f1kyBguSpzwb",
        "outputId": "b0bcfaa8-a57a-41bb-b50e-c765d961e825",
        "colab": {
          "base_uri": "https://localhost:8080/"
        }
      },
      "outputs": [
        {
          "name": "stdout",
          "output_type": "stream",
          "text": [
            "fghjkdh\n"
          ]
        }
      ],
      "source": [
        "x = input()"
      ]
    },
    {
      "cell_type": "code",
      "execution_count": 31,
      "metadata": {
        "id": "Oe4-2cUwpzwb",
        "outputId": "5ca085cd-3af3-4b06-af2d-dc9653b4b9f0",
        "colab": {
          "base_uri": "https://localhost:8080/"
        }
      },
      "outputs": [
        {
          "name": "stdout",
          "output_type": "stream",
          "text": [
            "4565\n"
          ]
        },
        {
          "output_type": "execute_result",
          "data": {
            "text/plain": [
              "int"
            ]
          },
          "metadata": {},
          "execution_count": 31
        }
      ],
      "source": [
        "x = int(input())\n",
        "type(x)"
      ]
    },
    {
      "cell_type": "code",
      "execution_count": 33,
      "metadata": {
        "id": "WIX1QQU-pzwc",
        "outputId": "e8cf8b29-5de5-456f-903d-ea133dd23c65",
        "colab": {
          "base_uri": "https://localhost:8080/"
        }
      },
      "outputs": [
        {
          "name": "stdout",
          "output_type": "stream",
          "text": [
            "4565\n"
          ]
        },
        {
          "output_type": "execute_result",
          "data": {
            "text/plain": [
              "int"
            ]
          },
          "metadata": {},
          "execution_count": 33
        }
      ],
      "source": [
        "x = input()\n",
        "x=int(x)\n",
        "type(x)"
      ]
    },
    {
      "cell_type": "markdown",
      "metadata": {
        "id": "eGeDY0_Spzwc"
      },
      "source": [
        "### Converting User Input\n",
        "If we want to read a number from the user, we must convert it from a string to a number using a type conversion function.\n"
      ]
    },
    {
      "cell_type": "code",
      "execution_count": 34,
      "metadata": {
        "id": "7-qlXxHYpzwc",
        "outputId": "772fee08-54f1-4b52-e8e6-436584443d6e",
        "colab": {
          "base_uri": "https://localhost:8080/"
        }
      },
      "outputs": [
        {
          "output_type": "stream",
          "name": "stdout",
          "text": [
            "Distance in km? 10\n",
            "Distance in miles 6.2137119223733395\n"
          ]
        }
      ],
      "source": [
        "eu = input ('Distance in km? ')\n",
        "us = int(eu)/ 1.609344\n",
        "print ('Distance in miles', us)"
      ]
    },
    {
      "cell_type": "code",
      "source": [
        "eu = int(input ('Distance in km? '))\n",
        "us = eu/ 1.609344\n",
        "print ('Distance in miles', us)"
      ],
      "metadata": {
        "colab": {
          "base_uri": "https://localhost:8080/"
        },
        "id": "HIGjuHxVK7Qm",
        "outputId": "84a2257e-25c3-44ab-90d8-ad28ff3af4f4"
      },
      "execution_count": 35,
      "outputs": [
        {
          "output_type": "stream",
          "name": "stdout",
          "text": [
            "Distance in km? 10\n",
            "Distance in miles 6.2137119223733395\n"
          ]
        }
      ]
    },
    {
      "cell_type": "code",
      "source": [
        "eu = int(input ('Distance in km? '))\n",
        "print ('Distance in miles', (eu/1.609344))"
      ],
      "metadata": {
        "colab": {
          "base_uri": "https://localhost:8080/"
        },
        "id": "31qoY2PxLQrX",
        "outputId": "e3012dcd-ec8f-4c39-8965-7ff9977ece79"
      },
      "execution_count": 36,
      "outputs": [
        {
          "output_type": "stream",
          "name": "stdout",
          "text": [
            "Distance in km? 10\n",
            "Distance in miles 6.2137119223733395\n"
          ]
        }
      ]
    },
    {
      "cell_type": "code",
      "execution_count": null,
      "metadata": {
        "id": "H9UMtGRXpzwd",
        "outputId": "f4aa2348-02e6-4ef3-ab62-d839aa8c1221"
      },
      "outputs": [
        {
          "name": "stdout",
          "output_type": "stream",
          "text": [
            "Distance in km? 100\n",
            "Distance in miles 62.13711922373339\n"
          ]
        }
      ],
      "source": [
        "eu = int(input ('Distance in km? '))\n",
        "us = eu/ 1.609344\n",
        "print ('Distance in miles', us)"
      ]
    },
    {
      "cell_type": "markdown",
      "metadata": {
        "id": "TAfFQwPApzwd"
      },
      "source": [
        "### Task\n",
        "\n",
        "Write a program to prompt the user for hours and rate per hour to compute gross pay.\n",
        "\n",
        "Enter Hours: 35\n",
        "\n",
        "Enter Rate: 2.75\n",
        "\n",
        "Pay: 96.25\n"
      ]
    },
    {
      "cell_type": "code",
      "execution_count": 38,
      "metadata": {
        "id": "igByckEHpzwd",
        "colab": {
          "base_uri": "https://localhost:8080/"
        },
        "outputId": "ab09c514-a459-49d1-e1a2-645a9c25e060"
      },
      "outputs": [
        {
          "output_type": "stream",
          "name": "stdout",
          "text": [
            "Enter hours 10\n",
            "Enter rate 4.5\n",
            "Pay: 45.0\n"
          ]
        }
      ],
      "source": [
        "Hours = int(input(\"Enter hours \"))\n",
        "Rate = float(input(\"Enter rate \"))\n",
        "Pay = Hours * Rate\n",
        "print('Pay:', Pay)"
      ]
    },
    {
      "cell_type": "code",
      "execution_count": 39,
      "metadata": {
        "id": "sj--JxUPpzwd",
        "colab": {
          "base_uri": "https://localhost:8080/"
        },
        "outputId": "768fe85a-15ba-46c5-fd87-ab5c99189cd0"
      },
      "outputs": [
        {
          "output_type": "stream",
          "name": "stdout",
          "text": [
            "Enter hours 10\n",
            "Enter rate 5\n",
            "Pay: 50.0\n"
          ]
        }
      ],
      "source": [
        "Hours = int(input(\"Enter hours \"))\n",
        "Rate = float(input(\"Enter rate \"))\n",
        "print('Pay:', Hours*Rate)"
      ]
    },
    {
      "cell_type": "markdown",
      "metadata": {
        "id": "kvK8Ln1Ppzwd"
      },
      "source": [
        "### Task\n",
        "\n",
        "Write a program that asks the user from the keyboard his height in centimeters, his weight in kilograms (each indicator - a new line, in a new query) and returns the following message:\n",
        "\n",
        "Body mass index: [value].\n",
        "\n",
        "where  [value] is the calculated value of the body mass index.\n",
        "\n",
        "The body mass index is calculated in the following way:\n",
        "\n",
        "BMI=m/h2\n",
        "\n",
        "where m is body weight in kilograms, h is height in meters."
      ]
    },
    {
      "cell_type": "code",
      "execution_count": null,
      "metadata": {
        "id": "MKB7bRj6pzwd"
      },
      "outputs": [],
      "source": []
    },
    {
      "cell_type": "code",
      "execution_count": null,
      "metadata": {
        "id": "86IrKz__pzwe"
      },
      "outputs": [],
      "source": []
    }
  ],
  "metadata": {
    "kernelspec": {
      "display_name": "Python 3 (ipykernel)",
      "language": "python",
      "name": "python3"
    },
    "language_info": {
      "codemirror_mode": {
        "name": "ipython",
        "version": 3
      },
      "file_extension": ".py",
      "mimetype": "text/x-python",
      "name": "python",
      "nbconvert_exporter": "python",
      "pygments_lexer": "ipython3",
      "version": "3.11.4"
    },
    "colab": {
      "provenance": []
    }
  },
  "nbformat": 4,
  "nbformat_minor": 0
}