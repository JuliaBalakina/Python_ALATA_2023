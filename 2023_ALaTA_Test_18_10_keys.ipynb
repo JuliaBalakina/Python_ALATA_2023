{
  "cells": [
    {
      "cell_type": "markdown",
      "metadata": {
        "id": "view-in-github",
        "colab_type": "text"
      },
      "source": [
        "<a href=\"https://colab.research.google.com/github/JuliaBalakina/Python_ALATA_2023/blob/main/2023_ALaTA_Test_18_10_keys.ipynb\" target=\"_parent\"><img src=\"https://colab.research.google.com/assets/colab-badge.svg\" alt=\"Open In Colab\"/></a>"
      ]
    },
    {
      "cell_type": "markdown",
      "metadata": {
        "id": "-5J9oyn5RoQR"
      },
      "source": [
        "### Task 1 (0.5 points)\n",
        "\n",
        "Write a program which prompts the user for a Celsius temperature, convert the temperature to Fahrenheit, and print out the converted temperature."
      ]
    },
    {
      "cell_type": "code",
      "execution_count": null,
      "metadata": {
        "id": "NM5IVOX6RoQT"
      },
      "outputs": [],
      "source": [
        "cel = input ('Temperature in Celsius ')\n",
        "fahr = 9/5 *int(cel) +32\n",
        "print ('Temperature in fahrenheit', int(fahr))"
      ]
    },
    {
      "cell_type": "markdown",
      "metadata": {
        "id": "P_zbTsw3RoQU"
      },
      "source": [
        "### Task 2 (0.5 points)\n",
        "\n",
        "Help Dasha determine if the year with the given number is a leap year. If the year is a leap year, then output - YES, otherwise output - NO.\n",
        "\n",
        "Remember that according to the Gregorian calendar, a year is a leap year if its number is divisible by 4, but not divisible by 100, and also if it is divisible by 400.\n",
        "\n",
        "INPUT FORMAT:\n",
        "\n",
        "     N - year number (positive integer)\n",
        "\n",
        "OUTPUT FORMAT:\n",
        "\n",
        "     Line. \"YES\" or \"NO\""
      ]
    },
    {
      "cell_type": "code",
      "execution_count": null,
      "metadata": {
        "id": "O6jHG6ChRoQU"
      },
      "outputs": [],
      "source": [
        "x = int (input ())\n",
        "if x % 4 == 0 and x % 100 != 0 or x % 400 == 0:\n",
        "    print (\"YES\")\n",
        "else:\n",
        "    print (\"NO\")"
      ]
    },
    {
      "cell_type": "markdown",
      "metadata": {
        "id": "YEtKWpneRoQU"
      },
      "source": [
        "### Task 3 (1 point)\n",
        "\n",
        "A sequence consists of natural numbers and ends with 0. Determine how many elements of this sequence are greater than the previous element.\n",
        "\n",
        "\n",
        "INPUT FORMAT:\n",
        "\n",
        "     A sequence of integers is introduced, ending with the number 0 (the number 0 itself is not included in the sequence, but serves as a sign of its end).\n",
        "     Each number is entered on a new line.\n",
        "\n",
        "OUTPUT FORMAT:\n",
        "\n",
        "     One number, the answer to the problem.\n",
        "\n",
        "Prompt\n",
        "\n",
        "     Process the first number before the loop and store it in a separate variable (previous number).\n",
        "     \n",
        " Input:\n",
        "\n",
        " 1\n",
        "\n",
        " 3\n",
        "\n",
        " 5\n",
        "\n",
        " 0\n",
        "\n",
        " Output: 2 ( 3 is greater than 1, 5 is greater than 3)\n",
        "    "
      ]
    },
    {
      "cell_type": "code",
      "execution_count": 1,
      "metadata": {
        "id": "uKaLBB3dRoQU",
        "colab": {
          "base_uri": "https://localhost:8080/"
        },
        "outputId": "5c817f50-9853-4f49-c498-8eee09ebe0d9"
      },
      "outputs": [
        {
          "output_type": "stream",
          "name": "stdout",
          "text": [
            "1\n",
            "2\n",
            "3\n",
            "0\n",
            "2\n"
          ]
        }
      ],
      "source": [
        "number = int(input())\n",
        "cnt = 0\n",
        "while number != 0:\n",
        "    prev_number = number\n",
        "    number = int(input())\n",
        "    if number > prev_number:\n",
        "        cnt += 1\n",
        "print(cnt)"
      ]
    },
    {
      "cell_type": "markdown",
      "metadata": {
        "id": "HnVxuXDGRoQV"
      },
      "source": [
        "### Task 4 (1 point)\n",
        "Given is a string. Your should return a list of all the indexes in the string that have capital letters.\n",
        "\n",
        "For example, input:(\"HeLlO\") should return the list [0, 2, 4]."
      ]
    },
    {
      "cell_type": "code",
      "execution_count": null,
      "metadata": {
        "id": "kmxRjuhKRoQV"
      },
      "outputs": [],
      "source": [
        "line = input()\n",
        "new =[]\n",
        "for i,p in enumerate(line):\n",
        "    if p.isupper():\n",
        "        new.append(i)\n",
        "print(new)"
      ]
    },
    {
      "cell_type": "markdown",
      "metadata": {
        "id": "l8m_2rphRoQV"
      },
      "source": [
        "### Task 5 (1.5 points)\n",
        "\n",
        "You have two lists, the first contains the names of the guests, and the second contains their favorite dishes. You need to print out their preferences so that a sentence like “Eric loves borsch” is displayed. It is guaranteed that the lists are of the same length.\n",
        "\n",
        "INPUT FORMAT:\n",
        "\n",
        "     Two lines.\n",
        "     The first line contains names separated by a space.\n",
        "     The second line contains the names of the dishes separated by a space.\n",
        "\n",
        "OUTPUT FORMAT:\n",
        "\n",
        "     A set of strings like '{name} likes {dish}\n",
        "     \n",
        " Example:\n",
        "\n",
        " Line1 = Peter Kate John\n",
        "\n",
        " Line2 = Pudding Fish Cake\n",
        "\n",
        " Output:\n",
        "\n",
        "         Peter likes Pudding\n",
        "\n",
        "         Kate likes Fish\n",
        "         \n",
        "         John likes Cake"
      ]
    },
    {
      "cell_type": "code",
      "execution_count": 2,
      "metadata": {
        "id": "bR9rN76BRoQV",
        "colab": {
          "base_uri": "https://localhost:8080/"
        },
        "outputId": "b791a087-797f-481f-b0b1-3b5a1393e87e"
      },
      "outputs": [
        {
          "output_type": "stream",
          "name": "stdout",
          "text": [
            "f h d\n",
            "r t y\n",
            "f loves r\n",
            "h loves t\n",
            "d loves y\n"
          ]
        }
      ],
      "source": [
        "names = input().split()\n",
        "food = input().split()\n",
        "l = ''\n",
        "for i in range(len(names)):\n",
        "    print(f'{names[i]} loves {food[i]}')\n"
      ]
    },
    {
      "cell_type": "markdown",
      "metadata": {
        "id": "F7v6cl7RRoQW"
      },
      "source": [
        "### Task 6 (1.5 points)\n",
        "\n",
        "🗺️ You would be given a map of the world in a type of string:\n",
        "\n",
        "string s = \"01000000X000X011X0X\"\n",
        "\n",
        "'0' : uninfected\n",
        "\n",
        "'1' : infected\n",
        "\n",
        "'X' : ocean\n",
        "\n",
        "⚫ The virus can't spread in the other side of the ocean.\n",
        "\n",
        "⚫ If one person is infected every person in this continent gets infected too.\n",
        "\n",
        "⚫ Your task is to find the percentage of human population that got infected in the end.\n",
        "\n",
        "☑️ Return the percentage % of the total population that got infected.\n",
        "\n",
        "❗❗ The first and the last continent are not connected!\n",
        "\n",
        "💡 Example:\n",
        "\n",
        " start: map1 = \"01000000X000X011X0X\"\n",
        "\n",
        " end:   map1 = \"11111111X000X111X0X\"\n",
        "\n",
        " total = 15\n",
        "\n",
        " infected = 11\n",
        "\n",
        " percentage = 100*11/15 = 73.33333333333333\n",
        "\n",
        "➕ For maps without oceans \"X\" the whole world is connected.\n",
        "\n",
        "➕ For maps without \"0\" and \"1\" return 0 as there is no population.\n"
      ]
    },
    {
      "cell_type": "code",
      "execution_count": null,
      "metadata": {
        "id": "SLZjgHh7RoQW"
      },
      "outputs": [],
      "source": [
        "s = input()\n",
        "for i in s:\n",
        "    if '0' not in s and '1' not in s:\n",
        "        percentage=0\n",
        "s=s.split('X')\n",
        "infected = 0\n",
        "total = 0\n",
        "for i in s:\n",
        "    total+=len(i)\n",
        "    if '1' in i:\n",
        "        infected +=len(i)\n",
        "if total==0:\n",
        "    pass\n",
        "else:\n",
        "    percentage = 100*infected/total\n",
        "print(percentage)"
      ]
    },
    {
      "cell_type": "markdown",
      "source": [
        "The books variable stores a dictionary, the keys of which are the names of the books, and the values are the authors.\n",
        "\n",
        "Write a program that takes a non-empty string as input and prints out all books for which the entered string is contained either in the title or in the author's name.\n",
        "\n",
        "The search is case sensitive (\"Harry\" and \"harry\" are different queries).\n",
        "\n",
        "If there is no match, the program does not output anything.\n",
        "\n",
        "INPUT FORMAT:\n",
        "\n",
        "Non-empty string\n",
        "OUTPUT FORMAT:\n",
        "\n",
        "Authors and titles of books that satisfy the condition, each pair on a new line.\n",
        "EXAMPLE:\n",
        "\n",
        "INPUT:\n",
        "\n",
        "Harry\n",
        "\n",
        "OUTPUT:\n",
        "\n",
        "J.K. Rowling: Harry Potter and the Goblet of Fire\n",
        "\n",
        "Harry Garrison: Indomitable Planet"
      ],
      "metadata": {
        "id": "AIbhMf_rU069"
      }
    },
    {
      "cell_type": "code",
      "source": [
        "books = {'The Silmarillion': 'John Tolkien',\n",
        "         'Harry Potter and the Goblet of Fire': 'J.K. Rowling',\n",
        "         'Indomitable Planet': 'Harry Garrison',\n",
        "         'Man without a face' : 'Alfred Bester',\n",
        "         'Alice in Wonderland': 'Lewis Carroll',\n",
        "         \"A Space Odyssey\": \"Arthur Clarke\",\n",
        "         'Dune': 'Frank Herbert',\n",
        "         \"Twenty Thousand Leagues Under the Sea\": \"Jules Verne\",\n",
        "         \"Yankees from Connecticut at the court of King Arthur\": \"Mark Twain\",\n",
        "         \"American Gods\": \"Neil Gaiman\",\n",
        "         \"The Chronicles of Amber\": \"Roger Zelazny\",\n",
        "         'The Chronicles of Narnia': 'Clive S. Lewis',\n",
        "         \"War of the Worlds\": \"HG Wells\"}\n",
        "x = input ()\n",
        "for key, value in books.items ():\n",
        "    if x in value  or  x in key :\n",
        "        print (f'{value}: {key}')"
      ],
      "metadata": {
        "colab": {
          "base_uri": "https://localhost:8080/"
        },
        "id": "wRp9GeI8U6uY",
        "outputId": "e8297bca-6c46-4be1-ed3f-7093fd0efbb1"
      },
      "execution_count": null,
      "outputs": [
        {
          "output_type": "stream",
          "name": "stdout",
          "text": [
            "Neil\n",
            "Neil Gaiman: American Gods\n"
          ]
        }
      ]
    }
  ],
  "metadata": {
    "kernelspec": {
      "display_name": "Python 3",
      "language": "python",
      "name": "python3"
    },
    "language_info": {
      "codemirror_mode": {
        "name": "ipython",
        "version": 3
      },
      "file_extension": ".py",
      "mimetype": "text/x-python",
      "name": "python",
      "nbconvert_exporter": "python",
      "pygments_lexer": "ipython3",
      "version": "3.8.3"
    },
    "colab": {
      "provenance": [],
      "include_colab_link": true
    }
  },
  "nbformat": 4,
  "nbformat_minor": 0
}